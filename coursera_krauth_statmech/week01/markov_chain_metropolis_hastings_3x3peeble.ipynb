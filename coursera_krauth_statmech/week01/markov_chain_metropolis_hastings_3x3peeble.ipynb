{
 "cells": [
  {
   "cell_type": "code",
   "execution_count": 2,
   "metadata": {
    "collapsed": true
   },
   "outputs": [],
   "source": [
    "import numpy as np\n",
    "import matplotlib.pyplot as plt\n",
    "%matplotlib inline"
   ]
  },
  {
   "cell_type": "markdown",
   "metadata": {},
   "source": [
    "# Case for homogeneous probabilility weights"
   ]
  },
  {
   "cell_type": "code",
   "execution_count": 145,
   "metadata": {},
   "outputs": [
    {
     "name": "stdout",
     "output_type": "stream",
     "text": [
      "at [0, 0]: mc = 0.090\n",
      "at [0, 1]: mc = 0.120\n",
      "at [0, 2]: mc = 0.125\n",
      "\n",
      "at [1, 0]: mc = 0.088\n",
      "at [1, 1]: mc = 0.113\n",
      "at [1, 2]: mc = 0.112\n",
      "\n",
      "at [2, 0]: mc = 0.105\n",
      "at [2, 1]: mc = 0.127\n",
      "at [2, 2]: mc = 0.120\n",
      "\n"
     ]
    },
    {
     "data": {
      "image/png": "[encoded data removed]",
      "text/plain": [
       "<matplotlib.figure.Figure at 0x11568e748>"
      ]
     },
     "metadata": {},
     "output_type": "display_data"
    }
   ],
   "source": [
    "nrep = 1000\n",
    "\n",
    "count = np.zeros((3, 3))\n",
    "moves = np.array([[+1, 0], [-1, 0], [0, +1], [0, -1]])\n",
    "rand = np.random.rand(nrep)\n",
    "rand[rand == 1.] = 0.99\n",
    "coins = np.floor(4 * rand)\n",
    "\n",
    "pos = np.random.randint(3, size=2)\n",
    "for coin in coins:\n",
    "    ahead = pos + moves[int(coin)]\n",
    "    if ahead[0] < 0 or ahead[0] > 2 or ahead[1] < 0 or ahead[1] > 2:\n",
    "        count[pos[0], pos[1]] += 1\n",
    "    else:\n",
    "        pos = ahead\n",
    "        count[pos[0], pos[1]] += 1\n",
    "        \n",
    "plt.rcParams['figure.figsize'] = (4.0, 4.0)\n",
    "count_norm = count / count.sum()\n",
    "plt.imshow(count_norm)\n",
    "plt.clim((0., 0.22))\n",
    "\n",
    "for i in range(3):\n",
    "    for j in range(3):\n",
    "        print('at [{:d}, {:d}]: mc = {:1.3f}'.\\\n",
    "              format(i, j, count_norm[i,j]))\n",
    "    print()"
   ]
  },
  {
   "cell_type": "code",
   "execution_count": null,
   "metadata": {
    "collapsed": true
   },
   "outputs": [],
   "source": []
  },
  {
   "cell_type": "code",
   "execution_count": null,
   "metadata": {
    "collapsed": true
   },
   "outputs": [],
   "source": []
  },
  {
   "cell_type": "markdown",
   "metadata": {},
   "source": [
    "# Case for inhomogeneous probabilility weights"
   ]
  },
  {
   "cell_type": "code",
   "execution_count": 146,
   "metadata": {},
   "outputs": [
    {
     "name": "stdout",
     "output_type": "stream",
     "text": [
      "at [0, 0]: (pi, mc) = (0.163, 0.134)\n",
      "at [0, 1]: (pi, mc) = (0.051, 0.055)\n",
      "at [0, 2]: (pi, mc) = (0.151, 0.193)\n",
      "\n",
      "at [1, 0]: (pi, mc) = (0.096, 0.088)\n",
      "at [1, 1]: (pi, mc) = (0.029, 0.030)\n",
      "at [1, 2]: (pi, mc) = (0.054, 0.060)\n",
      "\n",
      "at [2, 0]: (pi, mc) = (0.146, 0.141)\n",
      "at [2, 1]: (pi, mc) = (0.173, 0.165)\n",
      "at [2, 2]: (pi, mc) = (0.136, 0.133)\n",
      "\n"
     ]
    },
    {
     "data": {
      "image/png": "[encoded data removed]",
      "text/plain": [
       "<matplotlib.figure.Figure at 0x115690518>"
      ]
     },
     "metadata": {},
     "output_type": "display_data"
    }
   ],
   "source": [
    "nrep = 10000\n",
    "\n",
    "pi = np.random.rand(3, 3)\n",
    "pi /= pi.sum()\n",
    "count = np.zeros((3, 3))\n",
    "moves = np.array([[+1, 0], [-1, 0], [0, +1], [0, -1]])\n",
    "\n",
    "rand = np.random.rand(nrep)\n",
    "rand[rand == 1.] = 0.99\n",
    "coins = np.floor(4 * rand)\n",
    "\n",
    "pos = np.random.randint(3, size=2)\n",
    "for coin in coins:\n",
    "    ahd = pos + moves[int(coin)]\n",
    "    if ahd[0] < 0 or ahd[0] > 2 or ahd[1] < 0 or ahd[1] > 2:\n",
    "        count[pos[0], pos[1]] += 1\n",
    "    else:\n",
    "        ratio  = pi[ahd[0], ahd[1]] / pi[pos[0], pos[1]]\n",
    "        if ratio > 1:\n",
    "            pos = ahd\n",
    "            count[pos[0], pos[1]] += 1\n",
    "        elif np.random.rand() <= ratio:\n",
    "            pos = ahd\n",
    "            count[pos[0], pos[1]] += 1\n",
    "        else:\n",
    "            count[pos[0], pos[1]] += 1\n",
    "\n",
    "count_norm = count / count.sum()\n",
    "\n",
    "plt.rcParams['figure.figsize'] = (8.0, 4.0)\n",
    "plt.subplot(1, 2, 1)\n",
    "plt.imshow(pi)\n",
    "plt.title('true probability weights')\n",
    "plt.clim((0., 1.))\n",
    "plt.subplot(1, 2, 2)\n",
    "plt.imshow(count_norm)\n",
    "plt.clim((0., 1.))\n",
    "plt.title('sampled probability weights')\n",
    "\n",
    "for i in range(3):\n",
    "    for j in range(3):\n",
    "        print('at [{:d}, {:d}]: (pi, mc) = ({:1.3f}, {:1.3f})'.\\\n",
    "              format(i, j, pi[i,j], count_norm[i,j]))\n",
    "    print()"
   ]
  },
  {
   "cell_type": "code",
   "execution_count": null,
   "metadata": {
    "collapsed": true
   },
   "outputs": [],
   "source": []
  },
  {
   "cell_type": "code",
   "execution_count": null,
   "metadata": {
    "collapsed": true
   },
   "outputs": [],
   "source": []
  }
 ],
 "metadata": {
  "kernelspec": {
   "display_name": "Python 3",
   "language": "python",
   "name": "python3"
  },
  "language_info": {
   "codemirror_mode": {
    "name": "ipython",
    "version": 3
   },
   "file_extension": ".py",
   "mimetype": "text/x-python",
   "name": "python",
   "nbconvert_exporter": "python",
   "pygments_lexer": "ipython3",
   "version": "3.6.1"
  }
 },
 "nbformat": 4,
 "nbformat_minor": 2
}
